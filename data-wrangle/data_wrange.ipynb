{
 "cells": [
  {
   "cell_type": "code",
   "execution_count": 10,
   "metadata": {},
   "outputs": [],
   "source": [
    "# modifies data from faceit api to reusable form to analysys \n",
    "\n",
    "import sys\n",
    "sys.path.append(\"..\")\n",
    "from data_fetch_api.main import Data_fetcher as df \n",
    "from data_fetch_api.config import api_key as api \n"
   ]
  },
  {
   "cell_type": "code",
   "execution_count": 37,
   "metadata": {},
   "outputs": [
    {
     "data": {
      "text/plain": [
       "['1-23d4e2da-dad2-47ac-908c-3d2106ada1dc',\n",
       " '5v5',\n",
       " 10,\n",
       " 1665604185,\n",
       " 1665605845,\n",
       " 0]"
      ]
     },
     "execution_count": 37,
     "metadata": {},
     "output_type": "execute_result"
    }
   ],
   "source": [
    "def derive_data(match_list, player_id):\n",
    "    \n",
    "    return list(map(lambda x : data_extractor(x, player_id), match_list))\n",
    "\n",
    "data = derive_data(p.match_list, p.get_player_id)\n",
    "data[0]\n",
    "    "
   ]
  },
  {
   "cell_type": "code",
   "execution_count": 31,
   "metadata": {},
   "outputs": [],
   "source": [
    "def data_extractor(x, player_id):\n",
    "    match_id = x['match_id']\n",
    "    game_mode = x['game_mode']\n",
    "    max_players = x['max_players']\n",
    "    started_at = x['started_at']\n",
    "    finished_at = x['finished_at']\n",
    "    winner_team = x['results']['winner'] # faction1 or faction2\n",
    "    faction1 = list(map(lambda x: x['player_id'],x['teams']['faction1']['players']))\n",
    "    faction2 = list(map(lambda x: x['player_id'],x['teams']['faction2']['players']))\n",
    "    player_team = 'faction1' if player_id in faction1 else 'faction2'\n",
    "    result = 1 if player_team == winner_team else 0\n",
    "\n",
    "    return [match_id, game_mode, max_players, started_at, finished_at, result]\n",
    "\n"
   ]
  },
  {
   "cell_type": "code",
   "execution_count": 11,
   "metadata": {},
   "outputs": [
    {
     "name": "stdout",
     "output_type": "stream",
     "text": [
      "Instance init, data fetching started\n",
      "Fetching game history\n",
      "time initialized: 1681063606\n",
      "Normal run with timeframe start at: 1681063606\n",
      "Lenght of match list: 0\n",
      "Update timeframe for recursive call is 1664376036\n",
      "Normal run with timeframe start at: 1664376036\n",
      "Lenght of match list: 100\n",
      "Update timeframe for recursive call is 1662801857\n",
      "Normal run with timeframe start at: 1662801857\n",
      "Lenght of match list: 200\n",
      "Update timeframe for recursive call is 1660709885\n",
      "Normal run with timeframe start at: 1660709885\n",
      "Lenght of match list: 300\n",
      "Update timeframe for recursive call is 1654006693\n",
      "Normal run with timeframe start at: 1654006693\n",
      "Lenght of match list: 400\n",
      "Update timeframe for recursive call is 1653057026\n",
      "Normal run with timeframe start at: 1653057026\n",
      "Lenght of match list: 500\n",
      "Update timeframe for recursive call is 1651063244\n",
      "Normal run with timeframe start at: 1651063244\n",
      "Lenght of match list: 600\n",
      "Update timeframe for recursive call is 1638468518\n",
      "Normal run with timeframe start at: 1638468518\n",
      "Lenght of match list: 700\n",
      "Update timeframe for recursive call is 1637270141\n",
      "Normal run with timeframe start at: 1637270141\n",
      "Lenght of match list: 800\n",
      "Update timeframe for recursive call is 1635576675\n",
      "Normal run with timeframe start at: 1635576675\n",
      "Lenght of match list: 900\n",
      "Update timeframe for recursive call is 1634659490\n",
      "Normal run with timeframe start at: 1634659490\n",
      "Lenght of match list: 1000\n",
      "Update timeframe for recursive call is 1633380850\n",
      "Normal run with timeframe start at: 1633380850\n",
      "Lenght of match list: 1100\n",
      "Update timeframe for recursive call is 1622147184\n",
      "Normal run with timeframe start at: 1622147184\n",
      "Lenght of match list: 1200\n",
      "Update timeframe for recursive call is 1620067420\n",
      "Normal run with timeframe start at: 1620067420\n",
      "Lenght of match list: 1300\n",
      "Update timeframe for recursive call is 1615681826\n",
      "Normal run with timeframe start at: 1615681826\n",
      "Lenght of match list: 1400\n",
      "Update timeframe for recursive call is 1597599628\n",
      "Normal run with timeframe start at: 1597599628\n",
      "Lenght of match list: 1500\n",
      "Update timeframe for recursive call is 1593960364\n",
      "Normal run with timeframe start at: 1593960364\n",
      "Lenght of match list: 1600\n",
      "Update timeframe for recursive call is 1572369894\n",
      "Normal run with timeframe start at: 1572369894\n",
      "Lenght of match list: 1700\n",
      "Update timeframe for recursive call is 1553101204\n",
      "Normal run with timeframe start at: 1553101204\n",
      "Lenght of match list: 1800\n",
      "Update timeframe for recursive call is 1543441834\n",
      "Recursion end activated\n",
      "Lenght of match list: 1885\n",
      "Data test integrity passed \n",
      " Match list does not contain any duplicated match ids\n"
     ]
    }
   ],
   "source": [
    "p = df(api, 's1len--')"
   ]
  }
 ],
 "metadata": {
  "kernelspec": {
   "display_name": "Python 3",
   "language": "python",
   "name": "python3"
  },
  "language_info": {
   "codemirror_mode": {
    "name": "ipython",
    "version": 3
   },
   "file_extension": ".py",
   "mimetype": "text/x-python",
   "name": "python",
   "nbconvert_exporter": "python",
   "pygments_lexer": "ipython3",
   "version": "3.11.2"
  },
  "orig_nbformat": 4,
  "vscode": {
   "interpreter": {
    "hash": "aee8b7b246df8f9039afb4144a1f6fd8d2ca17a180786b69acc140d282b71a49"
   }
  }
 },
 "nbformat": 4,
 "nbformat_minor": 2
}
